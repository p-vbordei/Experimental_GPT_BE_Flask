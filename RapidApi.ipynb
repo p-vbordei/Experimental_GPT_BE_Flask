{
 "cells": [
  {
   "cell_type": "code",
   "execution_count": 21,
   "metadata": {},
   "outputs": [],
   "source": [
    "import requests\n",
    "import json\n",
    "import pandas as pd"
   ]
  },
  {
   "cell_type": "code",
   "execution_count": 9,
   "metadata": {},
   "outputs": [
    {
     "name": "stdout",
     "output_type": "stream",
     "text": [
      "{\"average_rating\":4.2,\"total_ratings\":1518,\"filtered_total_ratings\":null,\"total_reviews\":null,\"filtered_total_reviews\":null,\"5_star_ratings\":972,\"5_star_percentage\":0.64,\"4_star_ratings\":197,\"4_star_percentage\":0.13,\"3_star_ratings\":106,\"3_star_percentage\":0.07,\"2_star_ratings\":76,\"2_star_percentage\":0.05,\"1_star_ratings\":152,\"1_star_percentage\":0.1,\"product\":{\"url\":\"https://www.amazon.com/Hydroponics-Growing-QYO-Automation-Starter/dp/B08TVXQ5S1/ref=cm_cr_arp_d_product_top?ie=UTF8\",\"name\":\"QYO Hydroponics Growing System, 12 Pods Indoor Herb Garden with 36W Full-Spectrum Grow Light, Pump System, Automatic Timer, 23.8'' Height Adjustable, Plants Germination Kit for Home Kitchen Gardening\",\"brand\":\"QYO\",\"price\":null,\"image\":\"https://m.media-amazon.com/images/I/51EWuGFi4EL.jpg\",\"variation\":{\"Color\":\"Black\"}},\"top_positive_review\":{\"stars\":5,\"date\":\"Reviewed in the United States 🇺🇸 on March 23, 2023\",\"verified_purchase\":false,\"manufacturer_replied\":false,\"username\":\"WishGiggles\",\"userUrl\":\"https://www.amazon.com/gp/profile/amzn1.account.AHSH5TTSNEVKK22TJA7EFFQGHIWA/ref=cm_cr_arp_d_gw_lft?ie=UTF8\",\"title\":\"growing well\",\"review\":\"it was a little slow starting, but then got going well. The light seems better than the other grow lights I have in my garden room, enough, so I'm able to put some other plants in front of the hydroponic thing to gather up some of the light. I didn't have to do the milar curtain, but I decided to try it this last month, I don't know if it makes a difference or not, it sure isn't hurting it very giftable. I'm very happy with it over all.\",\"reviewUrl\":\"https://www.amazon.com/gp/customer-reviews/R29SS237COCS3A/ref=cm_cr_arp_d_viewpnt?ie=UTF8&ASIN=B08TVXQ5S1#R29SS237COCS3A\",\"total_found_helpful\":null,\"images\":[],\"variation\":{},\"videoUrl\":null},\"top_critical_review\":{\"stars\":3,\"date\":\"Reviewed in the United States 🇺🇸 on February 27, 2023\",\"verified_purchase\":false,\"manufacturer_replied\":false,\"username\":\"Amazon Customer\",\"userUrl\":\"https://www.amazon.com/gp/profile/amzn1.account.AFOCAGZQMXLGKYFQ37WNFWDQ7TRA/ref=cm_cr_arp_d_gw_rgt?ie=UTF8\",\"title\":\"There’s no bells and whistles, but he gets the job done\",\"review\":\"Overall, this product does what it says it does. It is a great starter garden, but if you are looking to replace your aero garden and are use to that level of interaction, this is not the machine for you. While this hydro-garden does grow plants, it is very basic with only two grow modes and no interactive system to let you know your garden status. For the price, however, it is an excellent starter garden for a kid or a purchase for someone that isn’t quite ready to commit a lot of money to a name-brand top of the line hydro-garden. Like other people, I also had a problem with mold. Increasing the air flow with a fan and wiping it from the grow pods, helped a lot but did not totally solve the issue.\",\"reviewUrl\":\"https://www.amazon.com/gp/customer-reviews/R37D68T9EOX8K4/ref=cm_cr_arp_d_viewpnt?ie=UTF8&ASIN=B08TVXQ5S1#R37D68T9EOX8K4\",\"total_found_helpful\":null,\"images\":[],\"variation\":{},\"videoUrl\":null},\"reviews\":[{\"stars\":5,\"date\":\"Reviewed in the United States 🇺🇸 on March 23, 2023\",\"verified_purchase\":true,\"manufacturer_replied\":false,\"username\":\"WishGigglesWishGiggles\",\"userUrl\":\"https://www.amazon.com/gp/profile/amzn1.account.AHSH5TTSNEVKK22TJA7EFFQGHIWA/ref=cm_cr_arp_d_gw_btm?ie=UTF8\",\"title\":\"growing well\",\"review\":\"it was a little slow starting, but then got going well. The light seems better than the other grow lights I have in my garden room, enough, so I'm able to put some other plants in front of the hydroponic thing to gather up some of the light. I didn't have to do the milar curtain, but I decided to try it this last month, I don't know if it makes a difference or not, it sure isn't hurting it very giftable. I'm very happy with it over all.\",\"reviewUrl\":\"https://www.amazon.com/gp/customer-reviews/R29SS237COCS3A/ref=cm_cr_arp_d_rvw_ttl?ie=UTF8&ASIN=B08TVXQ5S1\",\"total_found_helpful\":null,\"images\":[\"https://m.media-amazon.com/images/I/7155inkmOpL.jpg\"],\"variation\":{\"Color\":\"Black\"},\"videoUrl\":null},{\"stars\":5,\"date\":\"Reviewed in the United States 🇺🇸 on March 10, 2023\",\"verified_purchase\":true,\"manufacturer_replied\":false,\"username\":\"Amazon Customer\",\"userUrl\":\"https://www.amazon.com/gp/profile/amzn1.account.AFWY34GQRC2FEFJDM7WJOKUSIUXA/ref=cm_cr_arp_d_gw_btm?ie=UTF8\",\"title\":\"Great starter\",\"review\":\"This table top garden is the perfect way to begin the learning process of hydroponic gardening. I received it as a gift and it came with a damaged component from shipping. I emailed the seller and received a response within a couple of hours. By the next day, I got a confirmation of shipping and had the replacement within a couple days. Not only is this a good product, but the company is a class act.When I see such stellar reviews I am often skeptical, but this is a true testament.\",\"reviewUrl\":\"https://www.amazon.com/gp/customer-reviews/R1MTT3E123IK5P/ref=cm_cr_arp_d_rvw_ttl?ie=UTF8&ASIN=B08TVXQ5S1\",\"total_found_helpful\":1,\"images\":[],\"variation\":{\"Color\":\"Black\"},\"videoUrl\":null},{\"stars\":5,\"date\":\"Reviewed in the United States 🇺🇸 on March 23, 2023\",\"verified_purchase\":true,\"manufacturer_replied\":false,\"username\":\"Guillermo\",\"userUrl\":\"https://www.amazon.com/gp/profile/amzn1.account.AHNB7GW6LXTS7JEQH4YNVMIBAZKA/ref=cm_cr_arp_d_gw_btm?ie=UTF8\",\"title\":\"Can’t wait for my fresh herbs\",\"review\":\"The product is visually pleasing, fits right over the counter near the stove for easy access to fresh herbs and salads. This item  doubles as a security light at night. My kitchen is lit up from 4 pm to 8 Am. Now I don’t need to have timers on lamps  or leave lights on. A perfect gift.\",\"reviewUrl\":\"https://www.amazon.com/gp/customer-reviews/R2TW8S1LM5RZYO/ref=cm_cr_arp_d_rvw_ttl?ie=UTF8&ASIN=B08TVXQ5S1\",\"total_found_helpful\":null,\"images\":[],\"variation\":{\"Color\":\"Black\"},\"videoUrl\":null},{\"stars\":4,\"date\":\"Reviewed in the United States 🇺🇸 on February 4, 2023\",\"verified_purchase\":true,\"manufacturer_replied\":false,\"username\":\"Amazon Customer\",\"userUrl\":\"https://www.amazon.com/gp/profile/amzn1.account.AGGTF4UR3VU6AFGIJ6VN5XQUOOSA/ref=cm_cr_arp_d_gw_btm?ie=UTF8\",\"title\":\"Customer service is great\",\"review\":\"My light panel stopped working 9 months after I bought it. Emailed customer service and they sent a replacement light panel, which also did not work. They sent a new unit to me. Very inconvenient and my plants are not doing well through this BUT customer service is amazing.\",\"reviewUrl\":\"https://www.amazon.com/gp/customer-reviews/R13Y7CBHJRHF76/ref=cm_cr_arp_d_rvw_ttl?ie=UTF8&ASIN=B08TVXQ5S1\",\"total_found_helpful\":5,\"images\":[],\"variation\":{\"Color\":\"Black\"},\"videoUrl\":null},{\"stars\":4,\"date\":\"Reviewed in the United States 🇺🇸 on January 30, 2023\",\"verified_purchase\":true,\"manufacturer_replied\":false,\"username\":\"Loretta Steward\",\"userUrl\":\"https://www.amazon.com/gp/profile/amzn1.account.AGTJOUTYBLXEDCAJTJ7WKM5NTBFA/ref=cm_cr_arp_d_gw_btm?ie=UTF8\",\"title\":\"I like the brightness of the lights\",\"review\":\"The seeds take over a week to germinate.  I thought they would germinate quicker.  Also the sponges turn green pretty quickly.  I thought they could be reuseable but they are not.  Otherwise I do like the product and so does my guinea pig.\",\"reviewUrl\":\"https://www.amazon.com/gp/customer-reviews/RCWF7MDCWOD5N/ref=cm_cr_arp_d_rvw_ttl?ie=UTF8&ASIN=B08TVXQ5S1\",\"total_found_helpful\":1,\"images\":[],\"variation\":{\"Color\":\"Black\"},\"videoUrl\":null},{\"stars\":4,\"date\":\"Reviewed in the United States 🇺🇸 on November 30, 2022\",\"verified_purchase\":true,\"manufacturer_replied\":false,\"username\":\"Love to shop\",\"userUrl\":\"https://www.amazon.com/gp/profile/amzn1.account.AHT3NR4IFNG2OHUZYAZMKMBXSLKQ/ref=cm_cr_arp_d_gw_btm?ie=UTF8\",\"title\":\"Their warranty work is amazing.\",\"review\":\"I purchased the qyo hydroponics grow kit. It was easy to setup following the instructions. I rotated seedlings all spring/summer. I'd start my seeds in hydroponics and than transfer them to their own pot to continue growing and than out to the garden!Unfortunately it stopped working and I put it away. I missed planting so I contacted Qyo and since it was still under warranty, they are sending me a new one! I'm so happy. I don't normally bother with customer service/warranty work because it's too complicated and I get pissed. JENNIE at customer service was so helpful, didn't make me feel guilty for asking for the warranty coverage. She was so helpful.I really suggest purchasing this product over others such as the Aero garden. This product has more planting room for 1/3rd the cost.\",\"reviewUrl\":\"https://www.amazon.com/gp/customer-reviews/RY44OLI78VFTW/ref=cm_cr_arp_d_rvw_ttl?ie=UTF8&ASIN=B08TVXQ5S1\",\"total_found_helpful\":29,\"images\":[],\"variation\":{\"Color\":\"Black\"},\"videoUrl\":null},{\"stars\":5,\"date\":\"Reviewed in the United States 🇺🇸 on February 25, 2023\",\"verified_purchase\":true,\"manufacturer_replied\":false,\"username\":\"Dr. L\",\"userUrl\":\"https://www.amazon.com/gp/profile/amzn1.account.AEOFE5333HO25I6D3EK74VLR35BQ/ref=cm_cr_arp_d_gw_btm?ie=UTF8\",\"title\":\"Loved it until it stopped in 6 months but customer service stands by their stuff!\",\"review\":\"We bought our first 1 in April of 2022 and loved it so we bought our 2nd in June 2022. Unfortunately, although we love the product, the lights now longer power on and it’s useless.Update: QYO customer service was timely and responsive!!! No hassle, no questions asked replacement. You can’t go wrong with this purchase!\",\"reviewUrl\":\"https://www.amazon.com/gp/customer-reviews/R1G0APGD8A4RK2/ref=cm_cr_arp_d_rvw_ttl?ie=UTF8&ASIN=B08TVXQ5S1\",\"total_found_helpful\":2,\"images\":[],\"variation\":{\"Color\":\"Black\"},\"videoUrl\":null},{\"stars\":4,\"date\":\"Reviewed in the United States 🇺🇸 on December 14, 2022\",\"verified_purchase\":true,\"manufacturer_replied\":false,\"username\":\"Nicholas\",\"userUrl\":\"https://www.amazon.com/gp/profile/amzn1.account.AFUFMXEMIEN6RCWEQNWYTDSTO7WQ/ref=cm_cr_arp_d_gw_btm?ie=UTF8\",\"title\":\"Good product, broke, good Customer Service\",\"review\":\"I got mine several months ago. It worked great! My plants grew like crazy, it was easy to use, and I loved it.A few weeks ago, it just suddenly stopped working. I contact Customer Support and they were terrific.After walking through several steps to make sure I just wasn't being dumb, they sent a new one.This new one is great. I made sure to wait several weeks before writing this review to ensure the second one still worked. It does. Going strong and growing all sorts of veggies for me.\",\"reviewUrl\":\"https://www.amazon.com/gp/customer-reviews/R37A8QFEAG0IWP/ref=cm_cr_arp_d_rvw_ttl?ie=UTF8&ASIN=B08TVXQ5S1\",\"total_found_helpful\":9,\"images\":[],\"variation\":{\"Color\":\"Black\"},\"videoUrl\":null},{\"stars\":5,\"date\":\"Reviewed in the United States 🇺🇸 on March 20, 2023\",\"verified_purchase\":true,\"manufacturer_replied\":false,\"username\":\"Christina\",\"userUrl\":\"https://www.amazon.com/gp/profile/amzn1.account.AG6VJUS5562BNBBZ75HCEMUWTIFQ/ref=cm_cr_arp_d_gw_btm?ie=UTF8\",\"title\":\"growing starters and cuttings!\",\"review\":\"Pump doesn't seem to circulate to the far side very well.\",\"reviewUrl\":\"https://www.amazon.com/gp/customer-reviews/R1XJR2T6HPQA0Q/ref=cm_cr_arp_d_rvw_ttl?ie=UTF8&ASIN=B08TVXQ5S1\",\"total_found_helpful\":null,\"images\":[],\"variation\":{\"Color\":\"Black\"},\"videoUrl\":null},{\"stars\":5,\"date\":\"Reviewed in the United States 🇺🇸 on March 25, 2023\",\"verified_purchase\":true,\"manufacturer_replied\":false,\"username\":\"R3D\",\"userUrl\":\"https://www.amazon.com/gp/profile/amzn1.account.AGQEY2ECQRHHFHHL5UNZGZP3U6PA/ref=cm_cr_arp_d_gw_btm?ie=UTF8\",\"title\":\"Amazing Product\",\"review\":\"Amazing Product. Great Buy!\",\"reviewUrl\":\"https://www.amazon.com/gp/customer-reviews/R2JOEXRVUINMD5/ref=cm_cr_arp_d_rvw_ttl?ie=UTF8&ASIN=B08TVXQ5S1\",\"total_found_helpful\":null,\"images\":[],\"variation\":{\"Color\":\"Black\"},\"videoUrl\":null}],\"pagination\":[\"https://www.amazon.com/ap/signin?openid.return_to=https%3A%2F%2Fwww.amazon.com%2FHydroponics-Growing-QYO-Automation-Starter%2Fproduct-reviews%2FB08TVXQ5S1%3Fie%3DUTF8%26pageNumber%3D2&openid.identity=http%3A%2F%2Fspecs.openid.net%2Fauth%2F2.0%2Fidentifier_select&openid.assoc_handle=usflex&openid.mode=checkid_setup&marketPlaceId=ATVPDKIKX0DER&language=en&openid.claimed_id=http%3A%2F%2Fspecs.openid.net%2Fauth%2F2.0%2Fidentifier_select&openid.ns=http%3A%2F%2Fspecs.openid.net%2Fauth%2F2.0\"]}\n"
     ]
    }
   ],
   "source": [
    "url = \"https://h-amazon-data-scraper2.p.rapidapi.com/products/B08TVXQ5S1/reviews\"\n",
    "\n",
    "querystring = {\"api_key\":\"70201ee0c8ed29661bc6ae00a84341fb\"}\n",
    "\n",
    "headers = {\n",
    "\t\"X-RapidAPI-Key\": \"4da31a08e5mshaca05d98a3d9d6ep1fffb1jsn019717508cc8\",\n",
    "\t\"X-RapidAPI-Host\": \"h-amazon-data-scraper2.p.rapidapi.com\"\n",
    "}\n",
    "\n",
    "response = requests.request(\"GET\", url, headers=headers, params=querystring)\n",
    "\n",
    "print(response.text)"
   ]
  },
  {
   "cell_type": "code",
   "execution_count": 14,
   "metadata": {},
   "outputs": [
    {
     "data": {
      "text/plain": [
       "<Response [200]>"
      ]
     },
     "execution_count": 14,
     "metadata": {},
     "output_type": "execute_result"
    }
   ],
   "source": [
    "response"
   ]
  },
  {
   "cell_type": "code",
   "execution_count": 19,
   "metadata": {},
   "outputs": [],
   "source": [
    "# Assume the JSON data is stored in a variable called `json_data`\n",
    "data = json.loads(response.text)"
   ]
  },
  {
   "cell_type": "code",
   "execution_count": 22,
   "metadata": {},
   "outputs": [],
   "source": [
    "# Extract the reviews from the JSON data and convert it to a DataFrame\n",
    "reviews = pd.DataFrame(data['reviews'])"
   ]
  },
  {
   "cell_type": "code",
   "execution_count": 25,
   "metadata": {},
   "outputs": [],
   "source": [
    "reviews.to_csv(\"reviews_sample.csv\",index=False)"
   ]
  }
 ],
 "metadata": {
  "kernelspec": {
   "display_name": "oaie",
   "language": "python",
   "name": "python3"
  },
  "language_info": {
   "codemirror_mode": {
    "name": "ipython",
    "version": 3
   },
   "file_extension": ".py",
   "mimetype": "text/x-python",
   "name": "python",
   "nbconvert_exporter": "python",
   "pygments_lexer": "ipython3",
   "version": "3.8.16"
  },
  "orig_nbformat": 4,
  "vscode": {
   "interpreter": {
    "hash": "6c74ab5e9d1b69f4a633dadba036213975e2781ddda024f711eea1a9e615ae86"
   }
  }
 },
 "nbformat": 4,
 "nbformat_minor": 2
}
