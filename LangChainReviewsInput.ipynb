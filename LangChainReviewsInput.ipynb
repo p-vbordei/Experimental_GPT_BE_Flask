{
 "cells": [
  {
   "cell_type": "markdown",
   "metadata": {},
   "source": []
  },
  {
   "cell_type": "code",
   "execution_count": 26,
   "metadata": {},
   "outputs": [],
   "source": [
    "import pandas as pd\n",
    "import numpy as np\n",
    "import promptlayer\n",
    "\n",
    "from langchain.agents import load_tools\n",
    "from langchain.agents import initialize_agent\n",
    "from langchain.chat_models import ChatOpenAI\n",
    "from langchain import PromptTemplate\n",
    "from langchain.chat_models import PromptLayerChatOpenAI\n",
    "\n",
    "from langchain.prompts.chat import (\n",
    "    ChatPromptTemplate,\n",
    "    SystemMessagePromptTemplate,\n",
    "    AIMessagePromptTemplate,\n",
    "    HumanMessagePromptTemplate,\n",
    ")\n",
    "from langchain.schema import (\n",
    "    AIMessage,\n",
    "    HumanMessage,\n",
    "    SystemMessage\n",
    ")\n",
    "\n",
    "\n",
    "from dotenv import load_dotenv\n",
    "import os\n",
    "\n",
    "load_dotenv()\n",
    "OPENAI_API_KEY = os.getenv('OPENAI_API_KEY')\n",
    "SERPAPI_API_KEY = os.getenv('SERPAPI_API_KEY')\n",
    "WOLFRAM_ALPHA_APPID = os.getenv('WOLFRAM_ALPHA_APPID')\n",
    "PROMPTLAYER_API_KEY = os.getenv('PROMPTLAYER_API_KEY')\n",
    "PINECONE_API_KEY = os.getenv('PINECONE_API_KEY')\n",
    "PINECONE_ENV = os.getenv('PINECONE_ENV')\n",
    "\n",
    "\n",
    "\n",
    "from memory import PineconeMemory\n",
    "\n",
    "\n",
    "# Initialize memory and make sure it is empty.\n",
    "# this is particularly important for indexing and referencing pinecone memory\n",
    "\n",
    "memory = PineconeMemory()\n",
    "memory.clear()\n",
    "full_message_history = []\n",
    "\n",
    "print('Using memory of type: ' + memory.__class__.__name__)\n",
    "\n",
    "\n",
    "# Initialize the agent\n",
    "openai = promptlayer.openai\n",
    "chat = ChatOpenAI(model_name=\"gpt-3.5-turbo\", openai_api_key=OPENAI_API_KEY)\n"
   ]
  },
  {
   "cell_type": "code",
   "execution_count": 48,
   "metadata": {},
   "outputs": [],
   "source": [
    "reviews = pd.read_csv('reviews.csv')\n",
    "querry = {0: \"What are the top traits that customers appreciate the most about a product? Provide a description of each trait. \",\n",
    "          1: \"What are the top traits that customers appreciate the least about a product? Provide a description of each trait. \",\n",
    "          2: \"What are the improvements that can be brought to this product? Provide a description of each trait. \"}\n",
    "\n",
    "SystemMessage = \"\"\"Answer the question based on the context and reviews below. You will answer with bulletpoints and extra clarity as a profesional developer. If the question cannot be answered using the information provided answer with \"I don't know\".\n",
    "\n",
    "Context: You are looking at a product sold on amazon.com. We are a competing product development team. Our scope is to better understand the clients need with our product in order to improve the product. \"\"\"\n",
    "\n",
    "system_message_prompt = SystemMessagePromptTemplate.from_template(SystemMessage)\n",
    "\n",
    "\n",
    "HumanMessage = \"\"\"Question:  {inputQuestion}\n",
    "                Reviews: {inputReviews} \"\"\"\n",
    "\n",
    "human_message_prompt = HumanMessagePromptTemplate.from_template(HumanMessage)\n",
    "\n",
    "AiMessage = \"\"\"Answer: \"\"\"\n",
    "ai_message_prompt = AIMessagePromptTemplate.from_template(AiMessage)\n",
    "\n",
    "chat_prompt = ChatPromptTemplate.from_messages([system_message_prompt, human_message_prompt, ai_message_prompt])"
   ]
  },
  {
   "cell_type": "code",
   "execution_count": null,
   "metadata": {},
   "outputs": [],
   "source": [
    "# Pass the reviews and querry to the promptlayer, get the results and add them to the memory\n",
    "\n",
    "if len(querry) > 0:\n",
    "    for i in range(len(reviews)):\n",
    "        for j in range(len(querry)):\n",
    "            # PROMPTLAYER\n",
    "            prompt = chat_prompt.format_prompt(\n",
    "                inputQuestion=querry[j],\n",
    "                inputReviews=reviews['review'][i]\n",
    "            ).to_messages()\n",
    "            results = chat(prompt) \n",
    "            print(results)\n",
    "       \n",
    "            full_memory_to_add = f\" Human Message: {querry[j]} \" \\\n",
    "                f\"\\n Assistant Reply: {results} \" \\\n",
    "                f\"\\n Reviews: {reviews['review'][i]} \"\n",
    "            memory.add(full_memory_to_add)\n",
    "\n",
    "            short_memory_to_add = f\" Human Question: {querry[j]} \" \\\n",
    "                f\"\\n Assistant Answer: {results} \"\n",
    "            memory.add(short_memory_to_add)\n",
    "\n",
    "# template_dict = promptlayer.prompts.get(\"reviewsPromptFeatures_test1\")\n",
    "# https://python.langchain.com/en/latest/modules/models/chat/integrations/promptlayer_chatopenai.html\n",
    "\n",
    "\n",
    "# memory.get_relevant(\"Assistant Reply\", num_relevant=6)\n",
    "\n",
    "\n",
    "memory.get_stats()"
   ]
  },
  {
   "cell_type": "code",
   "execution_count": 49,
   "metadata": {},
   "outputs": [],
   "source": [
    "from langchain.agents import load_tools\n",
    "from langchain.agents import initialize_agent\n",
    "from langchain.llms import OpenAI\n",
    "import json\n",
    "\n",
    "llm = OpenAI(temperature=0, openai_api_key=OPENAI_API_KEY)\n",
    "toolkit = load_tools([\"serpapi\"], llm=llm, serpapi_api_key=SERPAPI_API_KEY)"
   ]
  },
  {
   "cell_type": "code",
   "execution_count": 119,
   "metadata": {},
   "outputs": [],
   "source": [
    "agent = initialize_agent(toolkit, llm, agent=\"zero-shot-react-description\", verbose=True, return_intermediate_steps=True)"
   ]
  },
  {
   "cell_type": "code",
   "execution_count": 123,
   "metadata": {},
   "outputs": [
    {
     "name": "stdout",
     "output_type": "stream",
     "text": [
      "\n",
      "\n",
      "\u001b[1m> Entering new AgentExecutor chain...\u001b[0m\n",
      "\u001b[32;1m\u001b[1;3m I need to find out what the product is and what it does.\n",
      "Action: Search\n",
      "Action Input: B08TVXQ5S1\u001b[0m\n",
      "Observation: \u001b[36;1m\u001b[1;3mOur indoor hydroponics growing system, Simply fill water, no need soil, a sleek, indoor garden that allows you to grow up to 12 different herbs, veggies, or ...\u001b[0m\n",
      "Thought:\u001b[32;1m\u001b[1;3m I need to find out what people think about the product.\n",
      "Action: Search\n",
      "Action Input: B08TVXQ5S1 reviews\u001b[0m\n",
      "Observation: \u001b[36;1m\u001b[1;3mASIN, ‎B08TVXQ5S1. Customer Reviews, 4.2 out of 5 stars 1,526Reviews. Best Sellers Rank. #6,808 in Patio, Lawn & Garden (See Top 100 in Patio, Lawn & Garden).\u001b[0m\n",
      "Thought:\u001b[32;1m\u001b[1;3m I now know the product and what people think about it.\n",
      "Final Answer: The Simply Hydroponics Growing System (ASIN: B08TVXQ5S1) is a sleek, indoor garden that allows you to grow up to 12 different herbs, veggies, or plants. It has an average customer rating of 4.2 out of 5 stars from 1,526 reviews and is ranked #6,808 in Patio, Lawn & Garden.\u001b[0m\n",
      "\n",
      "\u001b[1m> Finished chain.\u001b[0m\n"
     ]
    }
   ],
   "source": [
    "response = agent({\"input\":\"Prepare a prompt for a LLM model to generate a description of a product. \"\n",
    "                    \"This is the AISN of the product: B08TVXQ5S1. https://h-amazon-data-scraper2.p.rapidapi.com/products/B08TVXQ5S1/reviews \"})"
   ]
  },
  {
   "attachments": {},
   "cell_type": "markdown",
   "metadata": {},
   "source": [
    "I need a function that will receive a series of prompts that are passed to the GPT, it will save them to memory toghether with the reply the GPT gets to each of those prompts\n",
    "\n",
    "\n",
    "My code is:\n"
   ]
  }
 ],
 "metadata": {
  "kernelspec": {
   "display_name": "Python 3 (ipykernel)",
   "language": "python",
   "name": "python3"
  },
  "language_info": {
   "codemirror_mode": {
    "name": "ipython",
    "version": 3
   },
   "file_extension": ".py",
   "mimetype": "text/x-python",
   "name": "python",
   "nbconvert_exporter": "python",
   "pygments_lexer": "ipython3",
   "version": "3.8.16"
  }
 },
 "nbformat": 4,
 "nbformat_minor": 2
}
