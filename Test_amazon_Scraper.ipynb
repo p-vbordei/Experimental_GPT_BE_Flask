{
 "cells": [
  {
   "cell_type": "code",
   "execution_count": 1,
   "metadata": {},
   "outputs": [],
   "source": [
    "from amazon_scraper import AmazonProductScraper"
   ]
  },
  {
   "cell_type": "code",
   "execution_count": 2,
   "metadata": {},
   "outputs": [
    {
     "data": {
      "text/plain": [
       "'01090'"
      ]
     },
     "execution_count": 2,
     "metadata": {},
     "output_type": "execute_result"
    }
   ],
   "source": [
    "my_amazon_bot = AmazonProductScraper()\n",
    "my_amazon_bot.open_browser()\n",
    "'01090'"
   ]
  },
  {
   "cell_type": "code",
   "execution_count": 3,
   "metadata": {},
   "outputs": [
    {
     "name": "stdout",
     "output_type": "stream",
     "text": [
      ">> Category URL:  https://www.amazon.com/s?k=roasting+sticks&ref=nb_sb_noss\n",
      ">> extract_product_information() - start\n",
      ">> extract_product_information() - end\n",
      ">> navigate_to_other_pages() - start\n",
      "\n",
      ">> Page 1 - webpage information extracted\n",
      "Maximum Pages:  19\n",
      ">> extract_product_information() - start\n",
      ">> extract_product_information() - end\n",
      ">> Page 2 - webpage information extracted\n",
      ">> extract_product_information() - start\n",
      ">> extract_product_information() - end\n",
      ">> Page 3 - webpage information extracted\n",
      ">> extract_product_information() - start\n",
      ">> extract_product_information() - end\n",
      ">> Page 4 - webpage information extracted\n",
      ">> extract_product_information() - start\n",
      ">> extract_product_information() - end\n",
      ">> Page 5 - webpage information extracted\n",
      ">> extract_product_information() - start\n",
      ">> extract_product_information() - end\n",
      ">> Page 6 - webpage information extracted\n",
      ">> extract_product_information() - start\n",
      ">> extract_product_information() - end\n",
      ">> Page 7 - webpage information extracted\n",
      ">> extract_product_information() - start\n",
      ">> extract_product_information() - end\n",
      ">> Page 8 - webpage information extracted\n",
      ">> extract_product_information() - start\n",
      ">> extract_product_information() - end\n",
      ">> Page 9 - webpage information extracted\n",
      ">> extract_product_information() - start\n",
      ">> extract_product_information() - end\n",
      ">> Page 10 - webpage information extracted\n",
      ">> extract_product_information() - start\n",
      ">> extract_product_information() - end\n",
      ">> Page 11 - webpage information extracted\n",
      ">> extract_product_information() - start\n",
      ">> extract_product_information() - end\n",
      ">> Page 12 - webpage information extracted\n",
      ">> extract_product_information() - start\n",
      ">> extract_product_information() - end\n",
      ">> Page 13 - webpage information extracted\n",
      ">> extract_product_information() - start\n",
      ">> extract_product_information() - end\n",
      ">> Page 14 - webpage information extracted\n",
      ">> extract_product_information() - start\n",
      ">> extract_product_information() - end\n",
      ">> Page 15 - webpage information extracted\n",
      ">> extract_product_information() - start\n",
      ">> extract_product_information() - end\n",
      ">> Page 16 - webpage information extracted\n",
      ">> extract_product_information() - start\n",
      ">> extract_product_information() - end\n",
      ">> Page 17 - webpage information extracted\n",
      ">> extract_product_information() - start\n",
      ">> extract_product_information() - end\n",
      ">> Page 18 - webpage information extracted\n",
      ">> extract_product_information() - start\n",
      ">> extract_product_information() - end\n",
      ">> Page 19 - webpage information extracted\n",
      "\n",
      ">> Creating an excel sheet and entering the details...\n",
      ">> navigate_to_other_pages() - end\n",
      ">> Information about the product 'roasting sticks' is stored in roasting sticks_23-04-2023.csv\n",
      "\n"
     ]
    },
    {
     "ename": "AttributeError",
     "evalue": "module 'os' has no attribute 'startfile'",
     "output_type": "error",
     "traceback": [
      "\u001b[0;31m---------------------------------------------------------------------------\u001b[0m",
      "\u001b[0;31mAttributeError\u001b[0m                            Traceback (most recent call last)",
      "Cell \u001b[0;32mIn[3], line 5\u001b[0m\n\u001b[1;32m      3\u001b[0m my_amazon_bot\u001b[39m.\u001b[39mextract_product_information(page_results)\n\u001b[1;32m      4\u001b[0m navigation \u001b[39m=\u001b[39m my_amazon_bot\u001b[39m.\u001b[39mnavigate_to_other_pages(category_details)\n\u001b[0;32m----> 5\u001b[0m my_amazon_bot\u001b[39m.\u001b[39;49mproduct_information_spreadsheet(navigation)\n",
      "File \u001b[0;32m~/Documents/Development/oaie1/amazon_scraper.py:183\u001b[0m, in \u001b[0;36mAmazonProductScraper.product_information_spreadsheet\u001b[0;34m(self, records)\u001b[0m\n\u001b[1;32m    179\u001b[0m message \u001b[39m=\u001b[39m \u001b[39mf\u001b[39m\u001b[39m\"\u001b[39m\u001b[39m>> Information about the product \u001b[39m\u001b[39m'\u001b[39m\u001b[39m{\u001b[39;00m\u001b[39mself\u001b[39m\u001b[39m.\u001b[39mcategory_name\u001b[39m}\u001b[39;00m\u001b[39m'\u001b[39m\u001b[39m is stored in \u001b[39m\u001b[39m{\u001b[39;00mfile_name\u001b[39m}\u001b[39;00m\u001b[39m\\n\u001b[39;00m\u001b[39m\"\u001b[39m\n\u001b[1;32m    181\u001b[0m \u001b[39mprint\u001b[39m(message)\n\u001b[0;32m--> 183\u001b[0m os\u001b[39m.\u001b[39;49mstartfile(file_name)\n",
      "\u001b[0;31mAttributeError\u001b[0m: module 'os' has no attribute 'startfile'"
     ]
    }
   ],
   "source": [
    "category_details = my_amazon_bot.get_category_url()\n",
    "page_results = my_amazon_bot.extract_webpage_information()\n",
    "my_amazon_bot.extract_product_information(page_results)\n",
    "navigation = my_amazon_bot.navigate_to_other_pages(category_details)\n",
    "my_amazon_bot.product_information_spreadsheet(navigation)"
   ]
  }
 ],
 "metadata": {
  "kernelspec": {
   "display_name": "oaie",
   "language": "python",
   "name": "python3"
  },
  "language_info": {
   "codemirror_mode": {
    "name": "ipython",
    "version": 3
   },
   "file_extension": ".py",
   "mimetype": "text/x-python",
   "name": "python",
   "nbconvert_exporter": "python",
   "pygments_lexer": "ipython3",
   "version": "3.8.16"
  },
  "orig_nbformat": 4
 },
 "nbformat": 4,
 "nbformat_minor": 2
}
