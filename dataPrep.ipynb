{
 "cells": [
  {
   "cell_type": "code",
   "execution_count": 164,
   "metadata": {},
   "outputs": [],
   "source": [
    "import pandas as pd\n",
    "import numpy as np\n",
    "import re\n",
    "import tiktoken\n",
    "from typing import Dict"
   ]
  },
  {
   "cell_type": "code",
   "execution_count": 226,
   "metadata": {},
   "outputs": [],
   "source": [
    "def num_tokens_from_string(string: str, encoding_name: str ='cl100k_base') -> int:\n",
    "    \"\"\"Returns the number of tokens in a text string.\"\"\"\n",
    "    encoding = tiktoken.get_encoding(encoding_name)\n",
    "    num_tokens = len(encoding.encode(string))\n",
    "    return num_tokens\n",
    "\n",
    "def get_data(source,limit=3000):\n",
    "    df = pd.read_csv(source)\n",
    "    df['num_tokens'] = df['Body'].apply(num_tokens_from_string)\n",
    "    df['asin'] = df['URL'].apply(extract_asin)\n",
    "    \n",
    "#if num_tokens is higher than limit, than reduce data from from body to limit. Limit is 3000 as calculated with funtion num_tokens_from_string\n",
    "    df['review'] = df.apply(lambda x: x['Body'][:limit*3] if x['num_tokens'] > limit else x['Body'], axis=1)\n",
    "    df['review_num_tokens'] = df['review'].apply(num_tokens_from_string)\n",
    "    asin = df['asin'].unique()[0]\n",
    "    df = df[['review','review_num_tokens']]\n",
    "    return df, asin\n",
    "\n",
    "\n",
    "\n",
    "# Function to extract ASIN from URL\n",
    "def extract_asin(url):\n",
    "    pattern = r'ASIN=(\\w{10})'\n",
    "    match = re.search(pattern, url)\n",
    "    if match:\n",
    "        return match.group(1)\n",
    "    else:\n",
    "        return None\n",
    "    \n",
    "def clean_review(review):\n",
    "    return re.sub(r'[^a-zA-Z0-9\\s]+', '', review)\n",
    "\n",
    "def process_reviews(df):\n",
    "    df['cleaned_review'] = df['review'].apply(clean_review)\n",
    "    df['Counter'] = df.index\n",
    "    df['cleaned_review'] = df.apply(\n",
    "        lambda row: process_review(row['cleaned_review'], row.name, row['Counter'] - row['review_num_tokens'] + 1, row['Counter']),\n",
    "    axis=1)\n",
    "\n",
    "    df['review'] = df['cleaned_review'].copy()\n",
    "    df = df[['review']].copy()\n",
    "\n",
    "    return df\n"
   ]
  },
  {
   "cell_type": "code",
   "execution_count": 227,
   "metadata": {},
   "outputs": [],
   "source": [
    "\n",
    "\n",
    "def create_review_dict(df: pd.DataFrame, column_name: str, encoding_name: str = 'cl100k_base', max_tokens: int = 3000) -> Dict[int, str]:\n",
    "    \"\"\"Create a dictionary of reviews from the given dataframe, with each item containing no more than max_tokens, but as many reviews as possible\"\"\"\n",
    "    review_dict = {}\n",
    "    current_review_str = \"\"\n",
    "    current_token_count = 0\n",
    "    review_index = 0\n",
    "\n",
    "    for index, row in df.iterrows():\n",
    "        review = row[column_name]\n",
    "        token_count = num_tokens_from_string(review)\n",
    "\n",
    "        if current_token_count + token_count <= max_tokens:\n",
    "            if current_review_str:\n",
    "                current_review_str += \"\\n\\n\"\n",
    "            current_review_str += review\n",
    "            current_token_count += token_count\n",
    "        else:\n",
    "            review_dict[review_index] = current_review_str\n",
    "            review_index += 1\n",
    "            current_review_str = review\n",
    "            current_token_count = token_count\n",
    "\n",
    "    # Add any remaining reviews to the dictionary\n",
    "    if current_review_str:\n",
    "        review_dict[review_index] = current_review_str\n",
    "\n",
    "    return review_dict"
   ]
  },
  {
   "cell_type": "code",
   "execution_count": 228,
   "metadata": {},
   "outputs": [],
   "source": [
    "limit = 3000\n",
    "source = (\"B07ZKTBGR2 - Blinger Ultimate Set, Glam Collection, Comes with  2023-03-16.csv\")\n",
    "df, asin = get_data(source, limit)"
   ]
  },
  {
   "cell_type": "code",
   "execution_count": 229,
   "metadata": {},
   "outputs": [],
   "source": [
    "df = process_reviews(df)\n",
    "reviews_dict = create_review_dict(df, column_name='review', encoding_name='cl100k_base', max_tokens=limit)"
   ]
  }
 ],
 "metadata": {
  "kernelspec": {
   "display_name": "oaie",
   "language": "python",
   "name": "python3"
  },
  "language_info": {
   "codemirror_mode": {
    "name": "ipython",
    "version": 3
   },
   "file_extension": ".py",
   "mimetype": "text/x-python",
   "name": "python",
   "nbconvert_exporter": "python",
   "pygments_lexer": "ipython3",
   "version": "3.11.0"
  },
  "orig_nbformat": 4
 },
 "nbformat": 4,
 "nbformat_minor": 2
}
