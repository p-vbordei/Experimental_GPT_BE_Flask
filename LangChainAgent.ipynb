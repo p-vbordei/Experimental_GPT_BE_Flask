{
 "cells": [
  {
   "cell_type": "markdown",
   "metadata": {},
   "source": []
  },
  {
   "cell_type": "code",
   "execution_count": 65,
   "metadata": {},
   "outputs": [],
   "source": [
    "import pandas as pd\n",
    "import numpy as np\n",
    "import promptlayer\n",
    "\n",
    "from langchain.agents import load_tools\n",
    "from langchain.agents import initialize_agent\n",
    "from langchain.chat_models import ChatOpenAI\n",
    "from langchain import PromptTemplate\n",
    "from langchain.chat_models import PromptLayerChatOpenAI\n",
    "\n",
    "from langchain.prompts.chat import (\n",
    "    ChatPromptTemplate,\n",
    "    SystemMessagePromptTemplate,\n",
    "    AIMessagePromptTemplate,\n",
    "    HumanMessagePromptTemplate,\n",
    ")\n",
    "from langchain.schema import (\n",
    "    AIMessage,\n",
    "    HumanMessage,\n",
    "    SystemMessage\n",
    ")\n",
    "\n",
    "\n",
    "from dotenv import load_dotenv\n",
    "import os\n",
    "\n",
    "load_dotenv()\n",
    "OPENAI_API_KEY = os.getenv('OPENAI_API_KEY')\n",
    "SERPAPI_API_KEY = os.getenv('SERPAPI_API_KEY')\n",
    "WOLFRAM_ALPHA_APPID = os.getenv('WOLFRAM_ALPHA_APPID')\n",
    "PROMPTLAYER_API_KEY = os.getenv('PROMPTLAYER_API_KEY')"
   ]
  },
  {
   "cell_type": "code",
   "execution_count": 66,
   "metadata": {},
   "outputs": [],
   "source": [
    "\n",
    "openai = promptlayer.openai\n",
    "chat = ChatOpenAI(model_name=\"gpt-3.5-turbo\", openai_api_key=OPENAI_API_KEY)"
   ]
  },
  {
   "cell_type": "code",
   "execution_count": 114,
   "metadata": {},
   "outputs": [],
   "source": [
    "reviews = pd.read_csv('reviews.csv')\n",
    "querry = {1: \"What are the top traits that customers appreciate the most about a product? Provide a description of each trait. \",\n",
    "          2: \"What are the top traits that customers appreciate the least about a product? Provide a description of each trait. \",\n",
    "          3: \"What are the improvements that can be brought to this product? Provide a description of each trait. \"}"
   ]
  },
  {
   "cell_type": "code",
   "execution_count": 110,
   "metadata": {},
   "outputs": [],
   "source": [
    "SystemMessage = \"\"\"Answer the question based on the context and reviews below. You will answer with bulletpoints and extra clarity as a profesional developer. If the question cannot be answered using the information provided answer with \"I don't know\".\n",
    "\n",
    "Context: You are looking at a product sold on amazon.com. We are a competing product development team. Our scope is to better understand the clients need with our product in order to improve the product. \"\"\"\n",
    "\n",
    "system_message_prompt = SystemMessagePromptTemplate.from_template(SystemMessage)\n",
    "\n",
    "\n",
    "HumanMessage = \"\"\"Question:  {inputQuestion}\n",
    "                Reviews: {inputReviews} \"\"\"\n",
    "\n",
    "human_message_prompt = HumanMessagePromptTemplate.from_template(HumanMessage)\n",
    "\n",
    "\n",
    "AiMessage = \"\"\"Answer: \"\"\"\n",
    "ai_message_prompt = AIMessagePromptTemplate.from_template(AiMessage)\n",
    "\n",
    "chat_prompt = ChatPromptTemplate.from_messages([system_message_prompt, human_message_prompt, ai_message_prompt])\n",
    "\n",
    "inputQuestion = querry[3]\n",
    "reviews_input = reviews['review'][1][:100]\n",
    "\n",
    "prompt = chat_prompt.format_prompt(\n",
    "        inputReviews=reviews_input\n",
    "        ).to_messages()\n",
    "\n",
    "# template_dict = promptlayer.prompts.get(\"reviewsPromptFeatures_test1\")\n",
    "# https://python.langchain.com/en/latest/modules/models/chat/integrations/promptlayer_chatopenai.html"
   ]
  },
  {
   "cell_type": "code",
   "execution_count": 111,
   "metadata": {},
   "outputs": [],
   "source": [
    "results = chat(prompt)"
   ]
  },
  {
   "cell_type": "code",
   "execution_count": 112,
   "metadata": {},
   "outputs": [
    {
     "data": {
      "text/plain": [
       "AIMessage(content=\"Based on the reviews available, the top traits that customers appreciate the most about this product are:\\n\\n1. Easy to use\\n- The product is easy and straightforward to use, making it suitable for younger children to use.\\n\\n2. Durable\\n- The product stays in the hair overnight and the whole next day, making it durable.\\n\\n3. Fun and enjoyable\\n- Customers love the enjoyment and fun they experience when using the product. It's as enjoyable for adults as it is for children.\\n\\n4. Sticks well\\n- The product sticks well onto different surfaces such as clothes, bags, shoes, and hair.\\n\\n5. Comes with enough gems\\n- The product comes with enough gems to use for a while before running out.\\n\\n6. Fast delivery and good packaging\\n- The product is delivered promptly, and customers appreciate the good packaging.\\n\\n7. Affordable\\n- Many customers find the product affordable and reasonable for what it offers.\\n\\n8. Easy to remove\\n- The product is easy to remove without pulling off the hair or leaving any residue.\\n\\n9. Great as a gift\\n- Customers find this product as a perfect gift for their loved ones, especially young girls.\\n\\n10. Versatile\\n- The product is versatile and can be used to bling up almost anything, such as clothes, shoes, bags, and so on.\", additional_kwargs={})"
      ]
     },
     "execution_count": 112,
     "metadata": {},
     "output_type": "execute_result"
    }
   ],
   "source": [
    "results"
   ]
  },
  {
   "cell_type": "code",
   "execution_count": null,
   "metadata": {},
   "outputs": [],
   "source": []
  }
 ],
 "metadata": {
  "kernelspec": {
   "display_name": "Python 3 (ipykernel)",
   "language": "python",
   "name": "python3"
  },
  "language_info": {
   "codemirror_mode": {
    "name": "ipython",
    "version": 3
   },
   "file_extension": ".py",
   "mimetype": "text/x-python",
   "name": "python",
   "nbconvert_exporter": "python",
   "pygments_lexer": "ipython3",
   "version": "3.8.16"
  }
 },
 "nbformat": 4,
 "nbformat_minor": 2
}
